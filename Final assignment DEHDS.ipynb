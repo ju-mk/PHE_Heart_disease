{
 "cells": [
  {
   "cell_type": "markdown",
   "id": "35a44339",
   "metadata": {},
   "source": [
    "# Can you read the four csv files (and create data frames) in Python?"
   ]
  },
  {
   "cell_type": "markdown",
   "id": "094f3755",
   "metadata": {},
   "source": [
    "### Importing the different datasets"
   ]
  },
  {
   "cell_type": "code",
   "execution_count": 74,
   "id": "b75fcf67",
   "metadata": {},
   "outputs": [
    {
     "name": "stdout",
     "output_type": "stream",
     "text": [
      "   age  sex  cp  trestbps   chol  fbs  restecg  thalach  exang  oldpeak  \\\n",
      "0   63    1   4     140.0  260.0  0.0        1    112.0    1.0      3.0   \n",
      "1   44    1   4     130.0  209.0  0.0        1    127.0    0.0      0.0   \n",
      "2   60    1   4     132.0  218.0  0.0        1    140.0    1.0      1.5   \n",
      "3   55    1   4     142.0  228.0  0.0        1    149.0    1.0      2.5   \n",
      "4   66    1   3     110.0  213.0  1.0        2     99.0    1.0      1.3   \n",
      "\n",
      "   slope  ca  thal  num  \n",
      "0    2.0 NaN   NaN    2  \n",
      "1    NaN NaN   NaN    0  \n",
      "2    3.0 NaN   NaN    2  \n",
      "3    1.0 NaN   NaN    1  \n",
      "4    2.0 NaN   NaN    0  \n"
     ]
    }
   ],
   "source": [
    "import pandas as pd\n",
    "import matplotlib.pyplot as plt\n",
    "import numpy as np\n",
    "import seaborn as sns\n",
    "\n",
    "df_california = pd.read_csv('https://raw.githubusercontent.com/ju-mk/PHE_Heart_disease/main/california_heart.csv')\n",
    "df_cleveland = pd.read_csv('https://raw.githubusercontent.com/ju-mk/PHE_Heart_disease/main/cleveland_heart.csv')\n",
    "df_hungary = pd.read_csv('https://raw.githubusercontent.com/ju-mk/PHE_Heart_disease/main/hungary_heart.csv')\n",
    "df_switzerland = pd.read_csv('https://raw.githubusercontent.com/ju-mk/PHE_Heart_disease/main/switzerland_heart.csv')\n",
    "\n",
    "print(df_california.head(5))\n"
   ]
  },
  {
   "cell_type": "markdown",
   "id": "fcadaa5c",
   "metadata": {},
   "source": [
    "Attribute Information (14 used):\n",
    " - 1. #3  (age): age in years       \n",
    " - 2. #4  (sex): sex (1 = male; 0 = female)     \n",
    " - 3. #9  (cp): chest pain type\n",
    "     -- Value 1: typical angina\n",
    "     -- Value 2: atypical angina\n",
    "     -- Value 3: non-anginal pain\n",
    "     -- Value 4: asymptomatic        \n",
    " - 4. #10 (trestbps): resting blood pressure (in mm Hg on admission to the hospital)\n",
    " - 5. #12 (chol): serum cholestoral in mg/dl   \n",
    " - 6. #16 (fbs): (fasting blood sugar > 120 mg/dl)  (1 = true; 0 = false)      \n",
    " - 7. #19 (restecg): resting electrocardiographic results\n",
    "     -- Value 0: normal\n",
    "     -- Value 1: having ST-T wave abnormality (T wave inversions and/or ST elevation or depression of > 0.05 mV)\n",
    "     -- Value 2: showing probable or definite left ventricular hypertrophy by Estes' criteria\n",
    " - 8. #32 (thalach): maximum heart rate achieved  \n",
    " - 9. #38 (exang): exercise induced angina (1 = yes; 0 = no)    \n",
    " - 10. #40 (oldpeak): ST depression induced by exercise relative to rest \n",
    " - 11. #41 (slope): the slope of the peak exercise ST segment\n",
    "     -- Value 1: upsloping\n",
    "     -- Value 2: flat\n",
    "     -- Value 3: downsloping    \n",
    " - 12. #44 (ca): number of major vessels (0-3) colored by flourosopy       \n",
    " - 13. #51 (thal): 3 = normal; 6 = fixed defect; 7 = reversable defect      \n",
    " - 14. #58 (num): diagnosis of heart disease (angiographic disease status)\n",
    "     -- Value 0: < 50% diameter narrowing\n",
    "     -- Value 1: > 50% diameter narrowing\n",
    "     (in any major vessel: attributes 59 through 68 are vessels)       \n",
    "     (the predicted attribute)\n",
    "\n"
   ]
  },
  {
   "cell_type": "markdown",
   "id": "4c1e73e7",
   "metadata": {},
   "source": [
    "# Can you explore the data using skills gained during the group project?"
   ]
  },
  {
   "cell_type": "markdown",
   "id": "ac4c28a5",
   "metadata": {},
   "source": [
    "### Information about the age groups in the datasets"
   ]
  },
  {
   "cell_type": "code",
   "execution_count": 11,
   "id": "8d89af0f",
   "metadata": {},
   "outputs": [
    {
     "data": {
      "text/plain": [
       "count    200.000000\n",
       "mean      59.350000\n",
       "std        7.811697\n",
       "min       35.000000\n",
       "25%       55.000000\n",
       "50%       60.000000\n",
       "75%       64.000000\n",
       "max       77.000000\n",
       "Name: age, dtype: float64"
      ]
     },
     "execution_count": 11,
     "metadata": {},
     "output_type": "execute_result"
    }
   ],
   "source": [
    "df_california['age'].describe()"
   ]
  },
  {
   "cell_type": "code",
   "execution_count": 12,
   "id": "7a7461fa",
   "metadata": {},
   "outputs": [
    {
     "data": {
      "text/plain": [
       "count    303.000000\n",
       "mean      54.438944\n",
       "std        9.038662\n",
       "min       29.000000\n",
       "25%       48.000000\n",
       "50%       56.000000\n",
       "75%       61.000000\n",
       "max       77.000000\n",
       "Name: age, dtype: float64"
      ]
     },
     "execution_count": 12,
     "metadata": {},
     "output_type": "execute_result"
    }
   ],
   "source": [
    "df_cleveland['age'].describe()"
   ]
  },
  {
   "cell_type": "code",
   "execution_count": 13,
   "id": "6cc4c203",
   "metadata": {},
   "outputs": [
    {
     "data": {
      "text/plain": [
       "count    294.000000\n",
       "mean      47.826531\n",
       "std        7.811812\n",
       "min       28.000000\n",
       "25%       42.000000\n",
       "50%       49.000000\n",
       "75%       54.000000\n",
       "max       66.000000\n",
       "Name: age, dtype: float64"
      ]
     },
     "execution_count": 13,
     "metadata": {},
     "output_type": "execute_result"
    }
   ],
   "source": [
    "df_hungary['age'].describe()"
   ]
  },
  {
   "cell_type": "code",
   "execution_count": 14,
   "id": "dd429b32",
   "metadata": {},
   "outputs": [
    {
     "data": {
      "text/plain": [
       "count    123.000000\n",
       "mean      55.317073\n",
       "std        9.032108\n",
       "min       32.000000\n",
       "25%       51.000000\n",
       "50%       56.000000\n",
       "75%       61.500000\n",
       "max       74.000000\n",
       "Name: age, dtype: float64"
      ]
     },
     "execution_count": 14,
     "metadata": {},
     "output_type": "execute_result"
    }
   ],
   "source": [
    "df_switzerland['age'].describe()"
   ]
  },
  {
   "cell_type": "markdown",
   "id": "38c8ff8c",
   "metadata": {},
   "source": [
    "### Information about the diagnosis of heart disease:"
   ]
  },
  {
   "cell_type": "code",
   "execution_count": 94,
   "id": "79f64c95",
   "metadata": {},
   "outputs": [
    {
     "data": {
      "text/plain": [
       "age             int64\n",
       "sex             int64\n",
       "cp              int64\n",
       "trestbps      float64\n",
       "chol          float64\n",
       "fbs           float64\n",
       "restecg         int64\n",
       "thalach       float64\n",
       "exang         float64\n",
       "oldpeak       float64\n",
       "slope         float64\n",
       "ca            float64\n",
       "thal          float64\n",
       "num          category\n",
       "diagnosis        bool\n",
       "dtype: object"
      ]
     },
     "execution_count": 94,
     "metadata": {},
     "output_type": "execute_result"
    }
   ],
   "source": [
    "#checking the type of the column attributes\n",
    "#df_california.dtypes\n",
    "\n",
    "#converting the 'num' attribute to categorical\n",
    "df_california['num'] = pd.Categorical(df_california.num)\n",
    "df_california.dtypes\n",
    "\n",
    "#print(df_california['num'].value_counts())\n",
    "#print(df_cleveland['num'].value_counts())"
   ]
  },
  {
   "cell_type": "code",
   "execution_count": 68,
   "id": "a65a9754",
   "metadata": {},
   "outputs": [
    {
     "data": {
      "text/plain": [
       "<AxesSubplot:title={'center':'Percentage of individuals with each level of heart disease - Switzerland'}, ylabel='num'>"
      ]
     },
     "execution_count": 68,
     "metadata": {},
     "output_type": "execute_result"
    },
    {
     "data": {
      "image/png": "[encoded data removed]",
      "text/plain": [
       "<Figure size 432x288 with 1 Axes>"
      ]
     },
     "metadata": {},
     "output_type": "display_data"
    }
   ],
   "source": [
    "'''df_california['num'].value_counts().plot(\n",
    "    kind='pie', \n",
    "    autopct='%1.0f%%', \n",
    "    title = 'Percentage of individuals with each level of heart disease - California')\n",
    "\n",
    "df_cleveland['num'].value_counts().plot(\n",
    "    kind='pie', \n",
    "    autopct='%1.0f%%', \n",
    "    title = 'Percentage of individuals with each level of heart disease - Cleveland')\n",
    "\n",
    "df_hungary['num'].value_counts().plot(\n",
    "    kind='pie', \n",
    "    autopct='%1.0f%%', \n",
    "    title = 'Percentage of individuals with each level of heart disease - Hungary')'''\n",
    "\n",
    "df_switzerland['num'].value_counts().plot(\n",
    "    kind='pie', \n",
    "    autopct='%1.0f%%', \n",
    "    title = 'Percentage of individuals with each level of heart disease - Switzerland')"
   ]
  },
  {
   "cell_type": "markdown",
   "id": "e3d17c35",
   "metadata": {},
   "source": [
    "### Is there an association between sex and the presence of heart disease?"
   ]
  },
  {
   "cell_type": "code",
   "execution_count": 112,
   "id": "4e13e929",
   "metadata": {},
   "outputs": [
    {
     "name": "stdout",
     "output_type": "stream",
     "text": [
      "diagnosis  False  True\n",
      "sex                   \n",
      "0              3     3\n",
      "1             48   146\n",
      "diagnosis  False  True\n",
      "sex                   \n",
      "0             72    25\n",
      "1             92   114\n",
      "diagnosis  False  True\n",
      "sex                   \n",
      "0             69    12\n",
      "1            119    94\n",
      "diagnosis  False  True\n",
      "sex                   \n",
      "0              0    10\n",
      "1              8   105\n"
     ]
    }
   ],
   "source": [
    "#Creating a new column to transform 'num' into presence or absence of heart disease\n",
    "\n",
    "df_california[\"diagnosis\"] = np.where(df_california['num'] != 0, True, False)\n",
    "df_california.head(10)\n",
    "\n",
    "df_cleveland[\"diagnosis\"] = np.where(df_cleveland['num'] != 0, True, False)\n",
    "df_california.head(10)\n",
    "\n",
    "df_hungary[\"diagnosis\"] = np.where(df_hungary['num'] != 0, True, False)\n",
    "df_california.head(10)\n",
    "\n",
    "df_switzerland[\"diagnosis\"] = np.where(df_switzerland['num'] != 0, True, False)\n",
    "df_california.head(10)\n",
    "\n",
    "cali_tab = pd.crosstab(df_california['sex'], df_california['diagnosis'])\n",
    "print(cali_tab)\n",
    "\n",
    "clev_tab = pd.crosstab(df_cleveland['sex'], df_cleveland['diagnosis'])\n",
    "print(clev_tab)\n",
    "\n",
    "hung_tab = pd.crosstab(df_hungary['sex'], df_hungary['diagnosis'])\n",
    "print(hung_tab)\n",
    "\n",
    "switz_tab = pd.crosstab(df_switzerland['sex'], df_switzerland['diagnosis'])\n",
    "print(switz_tab)"
   ]
  },
  {
   "cell_type": "markdown",
   "id": "88bc8148",
   "metadata": {},
   "source": [
    "### Is there an association between age and heart disease?"
   ]
  },
  {
   "cell_type": "code",
   "execution_count": 118,
   "id": "5d732593",
   "metadata": {},
   "outputs": [
    {
     "data": {
      "text/plain": [
       "Text(0.5, 1.0, 'Age according to Heart disease diagnosis - Switzerland')"
      ]
     },
     "execution_count": 118,
     "metadata": {},
     "output_type": "execute_result"
    },
    {
     "data": {
      "image/png": "[encoded data removed]",
      "text/plain": [
       "<Figure size 576x360 with 1 Axes>"
      ]
     },
     "metadata": {
      "needs_background": "light"
     },
     "output_type": "display_data"
    },
    {
     "data": {
      "image/png": "[encoded data removed]",
      "text/plain": [
       "<Figure size 576x360 with 1 Axes>"
      ]
     },
     "metadata": {
      "needs_background": "light"
     },
     "output_type": "display_data"
    },
    {
     "data": {
      "image/png": "[encoded data removed]",
      "text/plain": [
       "<Figure size 576x360 with 1 Axes>"
      ]
     },
     "metadata": {
      "needs_background": "light"
     },
     "output_type": "display_data"
    },
    {
     "data": {
      "image/png": "[encoded data removed]",
      "text/plain": [
       "<Figure size 576x360 with 1 Axes>"
      ]
     },
     "metadata": {
      "needs_background": "light"
     },
     "output_type": "display_data"
    }
   ],
   "source": [
    "plt.figure(figsize=(8,5))\n",
    "sns.boxplot(x='num', y='age', data=df_california, palette='rainbow').set(\n",
    "    xlabel='Heart disease level', ylabel='Age')\n",
    "plt.title(\"Age according to Heart disease diagnosis - California\")\n",
    "\n",
    "plt.figure(figsize=(8,5))\n",
    "sns.boxplot(x='num', y='age', data=df_cleveland, palette='rainbow').set(\n",
    "    xlabel='Heart disease level', ylabel='Age')\n",
    "plt.title(\"Age according to Heart disease diagnosis - Cleveland\")\n",
    "\n",
    "plt.figure(figsize=(8,5))\n",
    "sns.boxplot(x='num', y='age', data=df_hungary, palette='rainbow').set(\n",
    "    xlabel='Heart disease level', ylabel='Age')\n",
    "plt.title(\"Age according to Heart disease diagnosis - Hungary\")\n",
    "\n",
    "plt.figure(figsize=(8,5))\n",
    "sns.boxplot(x='num', y='age', data=df_switzerland, palette='rainbow').set(\n",
    "    xlabel='Heart disease level', ylabel='Age')\n",
    "plt.title(\"Age according to Heart disease diagnosis - Switzerland\")"
   ]
  },
  {
   "cell_type": "markdown",
   "id": "7697e324",
   "metadata": {},
   "source": [
    "### Is there an association between chest pain and heart disease?"
   ]
  },
  {
   "cell_type": "code",
   "execution_count": 124,
   "id": "7f1578b1",
   "metadata": {},
   "outputs": [
    {
     "data": {
      "text/html": [
       "<div>\n",
       "<style scoped>\n",
       "    .dataframe tbody tr th:only-of-type {\n",
       "        vertical-align: middle;\n",
       "    }\n",
       "\n",
       "    .dataframe tbody tr th {\n",
       "        vertical-align: top;\n",
       "    }\n",
       "\n",
       "    .dataframe thead th {\n",
       "        text-align: right;\n",
       "    }\n",
       "</style>\n",
       "<table border=\"1\" class=\"dataframe\">\n",
       "  <thead>\n",
       "    <tr style=\"text-align: right;\">\n",
       "      <th></th>\n",
       "      <th>age</th>\n",
       "      <th>sex</th>\n",
       "      <th>cp</th>\n",
       "      <th>trestbps</th>\n",
       "      <th>chol</th>\n",
       "      <th>fbs</th>\n",
       "      <th>restecg</th>\n",
       "      <th>thalach</th>\n",
       "      <th>exang</th>\n",
       "      <th>oldpeak</th>\n",
       "      <th>slope</th>\n",
       "      <th>ca</th>\n",
       "      <th>thal</th>\n",
       "      <th>num</th>\n",
       "      <th>diagnosis</th>\n",
       "      <th>chest_pain</th>\n",
       "    </tr>\n",
       "  </thead>\n",
       "  <tbody>\n",
       "    <tr>\n",
       "      <th>0</th>\n",
       "      <td>32</td>\n",
       "      <td>1</td>\n",
       "      <td>1</td>\n",
       "      <td>95.0</td>\n",
       "      <td>0</td>\n",
       "      <td>NaN</td>\n",
       "      <td>0.0</td>\n",
       "      <td>127.0</td>\n",
       "      <td>0.0</td>\n",
       "      <td>0.7</td>\n",
       "      <td>1.0</td>\n",
       "      <td>NaN</td>\n",
       "      <td>NaN</td>\n",
       "      <td>1</td>\n",
       "      <td>True</td>\n",
       "      <td>True</td>\n",
       "    </tr>\n",
       "    <tr>\n",
       "      <th>1</th>\n",
       "      <td>34</td>\n",
       "      <td>1</td>\n",
       "      <td>4</td>\n",
       "      <td>115.0</td>\n",
       "      <td>0</td>\n",
       "      <td>NaN</td>\n",
       "      <td>NaN</td>\n",
       "      <td>154.0</td>\n",
       "      <td>0.0</td>\n",
       "      <td>0.2</td>\n",
       "      <td>1.0</td>\n",
       "      <td>NaN</td>\n",
       "      <td>NaN</td>\n",
       "      <td>1</td>\n",
       "      <td>True</td>\n",
       "      <td>False</td>\n",
       "    </tr>\n",
       "    <tr>\n",
       "      <th>2</th>\n",
       "      <td>35</td>\n",
       "      <td>1</td>\n",
       "      <td>4</td>\n",
       "      <td>NaN</td>\n",
       "      <td>0</td>\n",
       "      <td>NaN</td>\n",
       "      <td>0.0</td>\n",
       "      <td>130.0</td>\n",
       "      <td>1.0</td>\n",
       "      <td>NaN</td>\n",
       "      <td>NaN</td>\n",
       "      <td>NaN</td>\n",
       "      <td>7.0</td>\n",
       "      <td>3</td>\n",
       "      <td>True</td>\n",
       "      <td>False</td>\n",
       "    </tr>\n",
       "    <tr>\n",
       "      <th>3</th>\n",
       "      <td>36</td>\n",
       "      <td>1</td>\n",
       "      <td>4</td>\n",
       "      <td>110.0</td>\n",
       "      <td>0</td>\n",
       "      <td>NaN</td>\n",
       "      <td>0.0</td>\n",
       "      <td>125.0</td>\n",
       "      <td>1.0</td>\n",
       "      <td>1.0</td>\n",
       "      <td>2.0</td>\n",
       "      <td>NaN</td>\n",
       "      <td>6.0</td>\n",
       "      <td>1</td>\n",
       "      <td>True</td>\n",
       "      <td>False</td>\n",
       "    </tr>\n",
       "    <tr>\n",
       "      <th>4</th>\n",
       "      <td>38</td>\n",
       "      <td>0</td>\n",
       "      <td>4</td>\n",
       "      <td>105.0</td>\n",
       "      <td>0</td>\n",
       "      <td>NaN</td>\n",
       "      <td>0.0</td>\n",
       "      <td>166.0</td>\n",
       "      <td>0.0</td>\n",
       "      <td>2.8</td>\n",
       "      <td>1.0</td>\n",
       "      <td>NaN</td>\n",
       "      <td>NaN</td>\n",
       "      <td>2</td>\n",
       "      <td>True</td>\n",
       "      <td>False</td>\n",
       "    </tr>\n",
       "    <tr>\n",
       "      <th>5</th>\n",
       "      <td>38</td>\n",
       "      <td>0</td>\n",
       "      <td>4</td>\n",
       "      <td>110.0</td>\n",
       "      <td>0</td>\n",
       "      <td>0.0</td>\n",
       "      <td>0.0</td>\n",
       "      <td>156.0</td>\n",
       "      <td>0.0</td>\n",
       "      <td>0.0</td>\n",
       "      <td>2.0</td>\n",
       "      <td>NaN</td>\n",
       "      <td>3.0</td>\n",
       "      <td>1</td>\n",
       "      <td>True</td>\n",
       "      <td>False</td>\n",
       "    </tr>\n",
       "    <tr>\n",
       "      <th>6</th>\n",
       "      <td>38</td>\n",
       "      <td>1</td>\n",
       "      <td>3</td>\n",
       "      <td>100.0</td>\n",
       "      <td>0</td>\n",
       "      <td>NaN</td>\n",
       "      <td>0.0</td>\n",
       "      <td>179.0</td>\n",
       "      <td>0.0</td>\n",
       "      <td>-1.1</td>\n",
       "      <td>1.0</td>\n",
       "      <td>NaN</td>\n",
       "      <td>NaN</td>\n",
       "      <td>0</td>\n",
       "      <td>False</td>\n",
       "      <td>True</td>\n",
       "    </tr>\n",
       "    <tr>\n",
       "      <th>7</th>\n",
       "      <td>38</td>\n",
       "      <td>1</td>\n",
       "      <td>3</td>\n",
       "      <td>115.0</td>\n",
       "      <td>0</td>\n",
       "      <td>0.0</td>\n",
       "      <td>0.0</td>\n",
       "      <td>128.0</td>\n",
       "      <td>1.0</td>\n",
       "      <td>0.0</td>\n",
       "      <td>2.0</td>\n",
       "      <td>NaN</td>\n",
       "      <td>7.0</td>\n",
       "      <td>1</td>\n",
       "      <td>True</td>\n",
       "      <td>True</td>\n",
       "    </tr>\n",
       "    <tr>\n",
       "      <th>8</th>\n",
       "      <td>38</td>\n",
       "      <td>1</td>\n",
       "      <td>4</td>\n",
       "      <td>135.0</td>\n",
       "      <td>0</td>\n",
       "      <td>NaN</td>\n",
       "      <td>0.0</td>\n",
       "      <td>150.0</td>\n",
       "      <td>0.0</td>\n",
       "      <td>0.0</td>\n",
       "      <td>NaN</td>\n",
       "      <td>NaN</td>\n",
       "      <td>3.0</td>\n",
       "      <td>2</td>\n",
       "      <td>True</td>\n",
       "      <td>False</td>\n",
       "    </tr>\n",
       "    <tr>\n",
       "      <th>9</th>\n",
       "      <td>38</td>\n",
       "      <td>1</td>\n",
       "      <td>4</td>\n",
       "      <td>150.0</td>\n",
       "      <td>0</td>\n",
       "      <td>NaN</td>\n",
       "      <td>0.0</td>\n",
       "      <td>120.0</td>\n",
       "      <td>1.0</td>\n",
       "      <td>NaN</td>\n",
       "      <td>NaN</td>\n",
       "      <td>NaN</td>\n",
       "      <td>3.0</td>\n",
       "      <td>1</td>\n",
       "      <td>True</td>\n",
       "      <td>False</td>\n",
       "    </tr>\n",
       "  </tbody>\n",
       "</table>\n",
       "</div>"
      ],
      "text/plain": [
       "   age  sex  cp  trestbps  chol  fbs  restecg  thalach  exang  oldpeak  slope  \\\n",
       "0   32    1   1      95.0     0  NaN      0.0    127.0    0.0      0.7    1.0   \n",
       "1   34    1   4     115.0     0  NaN      NaN    154.0    0.0      0.2    1.0   \n",
       "2   35    1   4       NaN     0  NaN      0.0    130.0    1.0      NaN    NaN   \n",
       "3   36    1   4     110.0     0  NaN      0.0    125.0    1.0      1.0    2.0   \n",
       "4   38    0   4     105.0     0  NaN      0.0    166.0    0.0      2.8    1.0   \n",
       "5   38    0   4     110.0     0  0.0      0.0    156.0    0.0      0.0    2.0   \n",
       "6   38    1   3     100.0     0  NaN      0.0    179.0    0.0     -1.1    1.0   \n",
       "7   38    1   3     115.0     0  0.0      0.0    128.0    1.0      0.0    2.0   \n",
       "8   38    1   4     135.0     0  NaN      0.0    150.0    0.0      0.0    NaN   \n",
       "9   38    1   4     150.0     0  NaN      0.0    120.0    1.0      NaN    NaN   \n",
       "\n",
       "   ca  thal  num  diagnosis  chest_pain  \n",
       "0 NaN   NaN    1       True        True  \n",
       "1 NaN   NaN    1       True       False  \n",
       "2 NaN   7.0    3       True       False  \n",
       "3 NaN   6.0    1       True       False  \n",
       "4 NaN   NaN    2       True       False  \n",
       "5 NaN   3.0    1       True       False  \n",
       "6 NaN   NaN    0      False        True  \n",
       "7 NaN   7.0    1       True        True  \n",
       "8 NaN   3.0    2       True       False  \n",
       "9 NaN   3.0    1       True       False  "
      ]
     },
     "execution_count": 124,
     "metadata": {},
     "output_type": "execute_result"
    }
   ],
   "source": [
    "#Creating a new column 'chest_pain' where TRUE !=4 (4=asymptomatic = FALSE), so the values 1-3 are TRUE.\n",
    "\n",
    "df_california[\"chest_pain\"] = np.where(df_california['cp'] != 4, True, False)\n",
    "\n",
    "df_cleveland[\"chest_pain\"] = np.where(df_cleveland['cp'] != 4, True, False)\n",
    "\n",
    "df_hungary[\"chest_pain\"] = np.where(df_hungary['cp'] != 4, True, False)\n",
    "\n",
    "df_switzerland[\"chest_pain\"] = np.where(df_switzerland['cp'] != 4, True, False)\n",
    "df_switzerland.head(10)"
   ]
  },
  {
   "cell_type": "code",
   "execution_count": 131,
   "id": "ec2582f9",
   "metadata": {},
   "outputs": [
    {
     "data": {
      "text/plain": [
       "Text(0.5, 1.0, 'Count of patients diagnosed with heart disease, according to the presence of chest pain - Switzerland')"
      ]
     },
     "execution_count": 131,
     "metadata": {},
     "output_type": "execute_result"
    },
    {
     "data": {
      "image/png": "[encoded data removed]",
      "text/plain": [
       "<Figure size 576x360 with 1 Axes>"
      ]
     },
     "metadata": {
      "needs_background": "light"
     },
     "output_type": "display_data"
    },
    {
     "data": {
      "image/png": "[encoded data removed]",
      "text/plain": [
       "<Figure size 576x360 with 1 Axes>"
      ]
     },
     "metadata": {
      "needs_background": "light"
     },
     "output_type": "display_data"
    },
    {
     "data": {
      "image/png": "[encoded data removed]",
      "text/plain": [
       "<Figure size 576x360 with 1 Axes>"
      ]
     },
     "metadata": {
      "needs_background": "light"
     },
     "output_type": "display_data"
    },
    {
     "data": {
      "image/png": "[encoded data removed]",
      "text/plain": [
       "<Figure size 576x360 with 1 Axes>"
      ]
     },
     "metadata": {
      "needs_background": "light"
     },
     "output_type": "display_data"
    }
   ],
   "source": [
    "plt.figure(figsize=(8,5))\n",
    "sns.countplot(x='diagnosis',data=df_california, palette=\"rainbow\", hue='chest_pain')\n",
    "plt.title(\"Count of patients diagnosed with heart disease, according to the presence of chest pain - California\")\n",
    "\n",
    "plt.figure(figsize=(8,5))\n",
    "sns.countplot(x='diagnosis',data=df_cleveland, palette=\"rainbow\", hue='chest_pain')\n",
    "plt.title(\"Count of patients diagnosed with heart disease, according to the presence of chest pain - Cleveland\")\n",
    "\n",
    "plt.figure(figsize=(8,5))\n",
    "sns.countplot(x='diagnosis',data=df_hungary, palette=\"rainbow\", hue='chest_pain')\n",
    "plt.title(\"Count of patients diagnosed with heart disease, according to the presence of chest pain - Hungary\")\n",
    "\n",
    "plt.figure(figsize=(8,5))\n",
    "sns.countplot(x='diagnosis',data=df_switzerland, palette=\"rainbow\", hue='chest_pain')\n",
    "plt.title(\"Count of patients diagnosed with heart disease, according to the presence of chest pain - Switzerland\")"
   ]
  },
  {
   "cell_type": "markdown",
   "id": "a1ced862",
   "metadata": {},
   "source": [
    "# How do you set up a database in Python? Can you write the data to an SQLite table? Think about how to import the SQLite module in Python."
   ]
  },
  {
   "cell_type": "code",
   "execution_count": 151,
   "id": "7c020592",
   "metadata": {},
   "outputs": [],
   "source": [
    "# Importing the modules\n",
    "import csv, sqlite3\n",
    "\n",
    "#Creating a SQL connection to my database:\n",
    "con = sqlite3.connect('Heart_disease_database')\n",
    "\n",
    "#Creating a cursor object to interact with the database:\n",
    "cur = con.cursor()\n",
    "\n",
    "#Creating a California table within the database using the csv file:\n",
    "cur.execute(\"DROP TABLE IF EXISTS California\")\n",
    "cur.execute(\"CREATE TABLE California (age, sex, cp, trestbps, chol, fbs, restecg, thalach, exang, oldpeak, slope, ca, thal, num);\")\n",
    "with open('california_heart.csv', 'r') as fin:\n",
    "    dr = csv.DictReader(fin)\n",
    "    to_db = [(i['age'], i['sex'], i['cp'], i['trestbps'], i['chol'], i['fbs'], i['restecg'], i['thalach'], i['exang'], i['oldpeak'], i['slope'], i['ca'], i['thal'], i['num']) for i in dr]\n",
    "\n",
    "cur.executemany(\"INSERT INTO California (age, sex, cp, trestbps, chol, fbs, restecg, thalach, exang, oldpeak, slope, ca, thal, num) VALUES (?, ?, ?, ?, ?, ?, ?, ?, ?, ?, ?, ?, ?, ?);\", to_db)\n",
    "con.commit()\n",
    "\n",
    "#Creating a Cleveland table within the database using the csv file:\n",
    "cur.execute(\"DROP TABLE IF EXISTS Cleveland\")\n",
    "cur.execute(\"CREATE TABLE Cleveland (age, sex, cp, trestbps, chol, fbs, restecg, thalach, exang, oldpeak, slope, ca, thal, num);\")\n",
    "with open('cleveland_heart.csv', 'r') as fin:\n",
    "    dr = csv.DictReader(fin)\n",
    "    to_db = [(i['age'], i['sex'], i['cp'], i['trestbps'], i['chol'], i['fbs'], i['restecg'], i['thalach'], i['exang'], i['oldpeak'], i['slope'], i['ca'], i['thal'], i['num']) for i in dr]\n",
    "\n",
    "cur.executemany(\"INSERT INTO Cleveland (age, sex, cp, trestbps, chol, fbs, restecg, thalach, exang, oldpeak, slope, ca, thal, num) VALUES (?, ?, ?, ?, ?, ?, ?, ?, ?, ?, ?, ?, ?, ?);\", to_db)\n",
    "con.commit()\n",
    "\n",
    "#Creating a Hungary table within the database using the csv file:\n",
    "cur.execute(\"DROP TABLE IF EXISTS Hungary\")\n",
    "cur.execute(\"CREATE TABLE Hungary (age, sex, cp, trestbps, chol, fbs, restecg, thalach, exang, oldpeak, slope, ca, thal, num);\")\n",
    "with open('Hungary_heart.csv', 'r') as fin:\n",
    "    dr = csv.DictReader(fin)\n",
    "    to_db = [(i['age'], i['sex'], i['cp'], i['trestbps'], i['chol'], i['fbs'], i['restecg'], i['thalach'], i['exang'], i['oldpeak'], i['slope'], i['ca'], i['thal'], i['num']) for i in dr]\n",
    "\n",
    "cur.executemany(\"INSERT INTO Hungary (age, sex, cp, trestbps, chol, fbs, restecg, thalach, exang, oldpeak, slope, ca, thal, num) VALUES (?, ?, ?, ?, ?, ?, ?, ?, ?, ?, ?, ?, ?, ?);\", to_db)\n",
    "con.commit()\n",
    "\n",
    "#Creating a Switzerland table within the database using the csv file:\n",
    "cur.execute(\"DROP TABLE IF EXISTS Switzerland\")\n",
    "cur.execute(\"CREATE TABLE Switzerland (age, sex, cp, trestbps, chol, fbs, restecg, thalach, exang, oldpeak, slope, ca, thal, num);\")\n",
    "with open('Switzerland_heart.csv', 'r') as fin:\n",
    "    dr = csv.DictReader(fin)\n",
    "    to_db = [(i['age'], i['sex'], i['cp'], i['trestbps'], i['chol'], i['fbs'], i['restecg'], i['thalach'], i['exang'], i['oldpeak'], i['slope'], i['ca'], i['thal'], i['num']) for i in dr]\n",
    "\n",
    "cur.executemany(\"INSERT INTO Switzerland (age, sex, cp, trestbps, chol, fbs, restecg, thalach, exang, oldpeak, slope, ca, thal, num) VALUES (?, ?, ?, ?, ?, ?, ?, ?, ?, ?, ?, ?, ?, ?);\", to_db)\n",
    "con.commit()\n",
    "\n",
    "#Closing the connection to the database\n",
    "con.close()"
   ]
  },
  {
   "cell_type": "code",
   "execution_count": 139,
   "id": "72099b85",
   "metadata": {},
   "outputs": [
    {
     "name": "stdout",
     "output_type": "stream",
     "text": [
      "[('63', '1'), ('44', '1'), ('60', '1')]\n"
     ]
    }
   ],
   "source": [
    "con = sqlite3.connect('Heart_disease_database')\n",
    "cur = con.cursor()\n",
    "\n",
    "cur.execute('SELECT Age, sex FROM California ORDER BY ROWID ASC LIMIT 3')\n",
    "result = cur.fetchall();\n",
    "print(result)"
   ]
  },
  {
   "cell_type": "code",
   "execution_count": 185,
   "id": "2094ec2b",
   "metadata": {},
   "outputs": [
    {
     "name": "stdout",
     "output_type": "stream",
     "text": [
      "    age sex chol trestbps\n",
      "0    63   1  260      140\n",
      "1    44   1  209      130\n",
      "2    60   1  218      132\n",
      "3    55   1  228      142\n",
      "4    66   1  213      110\n",
      "..   ..  ..  ...      ...\n",
      "119  46   1  310      134\n",
      "120  54   0  333      127\n",
      "121  55   1  223      122\n",
      "122  58   1  385       NA\n",
      "123  62   1  254      120\n",
      "\n",
      "[124 rows x 4 columns]\n"
     ]
    }
   ],
   "source": [
    "con = sqlite3.connect(\"Heart_disease_database\")\n",
    "high_chol = pd.read_sql_query(\"SELECT age, sex, chol, trestbps FROM California WHERE chol > '200'\", con)\n",
    "\n",
    "print(high_chol)\n",
    "\n",
    "con.close()"
   ]
  }
 ],
 "metadata": {
  "kernelspec": {
   "display_name": "Python 3 (ipykernel)",
   "language": "python",
   "name": "python3"
  },
  "language_info": {
   "codemirror_mode": {
    "name": "ipython",
    "version": 3
   },
   "file_extension": ".py",
   "mimetype": "text/x-python",
   "name": "python",
   "nbconvert_exporter": "python",
   "pygments_lexer": "ipython3",
   "version": "3.8.8"
  }
 },
 "nbformat": 4,
 "nbformat_minor": 5
}
